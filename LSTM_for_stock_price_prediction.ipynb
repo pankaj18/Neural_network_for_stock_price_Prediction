{
  "nbformat": 4,
  "nbformat_minor": 0,
  "metadata": {
    "colab": {
      "name": "LSTM_for_stock_price_prediction.ipynb",
      "provenance": [],
      "authorship_tag": "ABX9TyNhNeIqjqexFmdtOw8VeFJR",
      "include_colab_link": true
    },
    "kernelspec": {
      "name": "python3",
      "display_name": "Python 3"
    }
  },
  "cells": [
    {
      "cell_type": "markdown",
      "metadata": {
        "id": "view-in-github",
        "colab_type": "text"
      },
      "source": [
        "<a href=\"https://colab.research.google.com/github/pankaj18/Neural_network_for_stock_price_Prediction/blob/master/LSTM_for_stock_price_prediction.ipynb\" target=\"_parent\"><img src=\"https://colab.research.google.com/assets/colab-badge.svg\" alt=\"Open In Colab\"/></a>"
      ]
    },
    {
      "cell_type": "code",
      "metadata": {
        "id": "i5BJueZY4sSG",
        "colab_type": "code",
        "colab": {}
      },
      "source": [
        "import numpy  as np\n",
        "import pandas as pd\n",
        "import matplotlib.pyplot as plt\n",
        "%matplotlib inline\n",
        "plt.style.use('dark_background')"
      ],
      "execution_count": 1,
      "outputs": []
    },
    {
      "cell_type": "code",
      "metadata": {
        "id": "5mmxfDSS5Dv7",
        "colab_type": "code",
        "colab": {}
      },
      "source": [
        "from sklearn.preprocessing import MinMaxScaler"
      ],
      "execution_count": 2,
      "outputs": []
    },
    {
      "cell_type": "code",
      "metadata": {
        "id": "DHEZyIy97Vu9",
        "colab_type": "code",
        "colab": {}
      },
      "source": [
        "import tensorflow as tf\n",
        "import keras\n",
        "from keras.models import Sequential,load_model\n",
        "from keras.layers import Dense,LSTM,Dropout"
      ],
      "execution_count": 6,
      "outputs": []
    },
    {
      "cell_type": "code",
      "metadata": {
        "id": "JtmIbJJk62Do",
        "colab_type": "code",
        "colab": {}
      },
      "source": [
        "data=pd.read_csv(\"https://github.com/pankaj18/Neural_network_for_stock_price_Prediction/raw/master/AAPL.csv\")"
      ],
      "execution_count": 3,
      "outputs": []
    },
    {
      "cell_type": "code",
      "metadata": {
        "id": "T5d_4pBE68Zz",
        "colab_type": "code",
        "colab": {
          "base_uri": "https://localhost:8080/",
          "height": 204
        },
        "outputId": "008d0edf-e050-4a09-c69d-c233b69339a5"
      },
      "source": [
        "data.head()"
      ],
      "execution_count": 4,
      "outputs": [
        {
          "output_type": "execute_result",
          "data": {
            "text/html": [
              "<div>\n",
              "<style scoped>\n",
              "    .dataframe tbody tr th:only-of-type {\n",
              "        vertical-align: middle;\n",
              "    }\n",
              "\n",
              "    .dataframe tbody tr th {\n",
              "        vertical-align: top;\n",
              "    }\n",
              "\n",
              "    .dataframe thead th {\n",
              "        text-align: right;\n",
              "    }\n",
              "</style>\n",
              "<table border=\"1\" class=\"dataframe\">\n",
              "  <thead>\n",
              "    <tr style=\"text-align: right;\">\n",
              "      <th></th>\n",
              "      <th>date</th>\n",
              "      <th>open</th>\n",
              "      <th>high</th>\n",
              "      <th>low</th>\n",
              "      <th>close</th>\n",
              "      <th>volume</th>\n",
              "      <th>Name</th>\n",
              "    </tr>\n",
              "  </thead>\n",
              "  <tbody>\n",
              "    <tr>\n",
              "      <th>0</th>\n",
              "      <td>2013-02-08</td>\n",
              "      <td>67.7142</td>\n",
              "      <td>68.4014</td>\n",
              "      <td>66.8928</td>\n",
              "      <td>67.8542</td>\n",
              "      <td>158168416</td>\n",
              "      <td>AAPL</td>\n",
              "    </tr>\n",
              "    <tr>\n",
              "      <th>1</th>\n",
              "      <td>2013-02-11</td>\n",
              "      <td>68.0714</td>\n",
              "      <td>69.2771</td>\n",
              "      <td>67.6071</td>\n",
              "      <td>68.5614</td>\n",
              "      <td>129029425</td>\n",
              "      <td>AAPL</td>\n",
              "    </tr>\n",
              "    <tr>\n",
              "      <th>2</th>\n",
              "      <td>2013-02-12</td>\n",
              "      <td>68.5014</td>\n",
              "      <td>68.9114</td>\n",
              "      <td>66.8205</td>\n",
              "      <td>66.8428</td>\n",
              "      <td>151829363</td>\n",
              "      <td>AAPL</td>\n",
              "    </tr>\n",
              "    <tr>\n",
              "      <th>3</th>\n",
              "      <td>2013-02-13</td>\n",
              "      <td>66.7442</td>\n",
              "      <td>67.6628</td>\n",
              "      <td>66.1742</td>\n",
              "      <td>66.7156</td>\n",
              "      <td>118721995</td>\n",
              "      <td>AAPL</td>\n",
              "    </tr>\n",
              "    <tr>\n",
              "      <th>4</th>\n",
              "      <td>2013-02-14</td>\n",
              "      <td>66.3599</td>\n",
              "      <td>67.3771</td>\n",
              "      <td>66.2885</td>\n",
              "      <td>66.6556</td>\n",
              "      <td>88809154</td>\n",
              "      <td>AAPL</td>\n",
              "    </tr>\n",
              "  </tbody>\n",
              "</table>\n",
              "</div>"
            ],
            "text/plain": [
              "         date     open     high      low    close     volume  Name\n",
              "0  2013-02-08  67.7142  68.4014  66.8928  67.8542  158168416  AAPL\n",
              "1  2013-02-11  68.0714  69.2771  67.6071  68.5614  129029425  AAPL\n",
              "2  2013-02-12  68.5014  68.9114  66.8205  66.8428  151829363  AAPL\n",
              "3  2013-02-13  66.7442  67.6628  66.1742  66.7156  118721995  AAPL\n",
              "4  2013-02-14  66.3599  67.3771  66.2885  66.6556   88809154  AAPL"
            ]
          },
          "metadata": {
            "tags": []
          },
          "execution_count": 4
        }
      ]
    },
    {
      "cell_type": "markdown",
      "metadata": {
        "id": "F-acSj8w81xA",
        "colab_type": "text"
      },
      "source": [
        "# Preprocessing\n",
        "take only Apple open price for prediction.\n",
        "divide data into training and test data into 80% and 20% respectively.\n",
        "then scale data using Minmax scaler"
      ]
    },
    {
      "cell_type": "code",
      "metadata": {
        "id": "LEJIIWMj7C0_",
        "colab_type": "code",
        "colab": {
          "base_uri": "https://localhost:8080/",
          "height": 68
        },
        "outputId": "7ef01ca2-827b-4a72-e5f4-15e5f6e6241f"
      },
      "source": [
        "df=data['open'].values\n",
        "print(df.shape)\n",
        "df=df.reshape(-1,1)\n",
        "print(df.shape)\n",
        "print(type(df))"
      ],
      "execution_count": 10,
      "outputs": [
        {
          "output_type": "stream",
          "text": [
            "(1259,)\n",
            "(1259, 1)\n",
            "<class 'numpy.ndarray'>\n"
          ],
          "name": "stdout"
        }
      ]
    },
    {
      "cell_type": "code",
      "metadata": {
        "id": "j6tLPJ239MGQ",
        "colab_type": "code",
        "colab": {
          "base_uri": "https://localhost:8080/",
          "height": 51
        },
        "outputId": "7a8fdf80-498a-4dc7-ad43-d7e7a990d92b"
      },
      "source": [
        "train_idx=int(df.shape[0]*0.8)\n",
        "train_data=df[:train_idx]\n",
        "test_data=df[train_idx:]\n",
        "print(train_data.shape)\n",
        "print(test_data.shape)"
      ],
      "execution_count": 11,
      "outputs": [
        {
          "output_type": "stream",
          "text": [
            "(1007, 1)\n",
            "(252, 1)\n"
          ],
          "name": "stdout"
        }
      ]
    },
    {
      "cell_type": "code",
      "metadata": {
        "id": "lQyQi7aV-4dn",
        "colab_type": "code",
        "colab": {}
      },
      "source": [
        "scaler=MinMaxScaler()\n",
        "train_data_s=scaler.fit_transform(train_data)\n",
        "test_data_s=scaler.transform(test_data)"
      ],
      "execution_count": 14,
      "outputs": []
    },
    {
      "cell_type": "code",
      "metadata": {
        "id": "8TUCh5ukAVif",
        "colab_type": "code",
        "colab": {
          "base_uri": "https://localhost:8080/",
          "height": 282
        },
        "outputId": "ac95c989-9d2e-44d5-8a66-b47753c1efb6"
      },
      "source": [
        "plt.plot(train_data_s)"
      ],
      "execution_count": 13,
      "outputs": [
        {
          "output_type": "execute_result",
          "data": {
            "text/plain": [
              "[<matplotlib.lines.Line2D at 0x7f127cd5cc50>]"
            ]
          },
          "metadata": {
            "tags": []
          },
          "execution_count": 13
        },
        {
          "output_type": "display_data",
          "data": {
            "image/png": "[encoded data removed]",
            "text/plain": [
              "<Figure size 432x288 with 1 Axes>"
            ]
          },
          "metadata": {
            "tags": [],
            "needs_background": "dark"
          }
        }
      ]
    },
    {
      "cell_type": "markdown",
      "metadata": {
        "id": "O2oPQrrtBO5Z",
        "colab_type": "text"
      },
      "source": [
        "Create dataset function to divide train and test data into rolling windows of size 50. The next value after window is used as label."
      ]
    },
    {
      "cell_type": "code",
      "metadata": {
        "id": "8Vr6pijtBL4B",
        "colab_type": "code",
        "colab": {}
      },
      "source": [
        "def create_dataset(data,window_len):\n",
        "  x=[]\n",
        "  y=[]\n",
        "  for i in range(len(data)-window_len):\n",
        "    x.append(data[i:i+window_len,0])\n",
        "    y.append(data[i+window_len,0]) \n",
        "  x=np.array(x)\n",
        "  #print(x.shape)\n",
        "  y=np.array(y)\n",
        "  return x,y"
      ],
      "execution_count": 46,
      "outputs": []
    },
    {
      "cell_type": "code",
      "metadata": {
        "id": "eplqt3_JCsBg",
        "colab_type": "code",
        "colab": {}
      },
      "source": [
        "x_train,y_train=create_dataset(train_data_s,window_len=50)\n",
        "x_test,y_test=create_dataset(test_data_s,window_len=50)"
      ],
      "execution_count": 47,
      "outputs": []
    },
    {
      "cell_type": "code",
      "metadata": {
        "id": "ga7mEnxNBKp_",
        "colab_type": "code",
        "colab": {
          "base_uri": "https://localhost:8080/",
          "height": 51
        },
        "outputId": "b71f85db-c113-468d-ba37-a5094b46a81e"
      },
      "source": [
        "print(x_train.shape)\n",
        "print(y_train.shape)"
      ],
      "execution_count": 48,
      "outputs": [
        {
          "output_type": "stream",
          "text": [
            "(957, 50)\n",
            "(957,)\n"
          ],
          "name": "stdout"
        }
      ]
    },
    {
      "cell_type": "code",
      "metadata": {
        "id": "wgDzkkg3C30X",
        "colab_type": "code",
        "colab": {
          "base_uri": "https://localhost:8080/",
          "height": 187
        },
        "outputId": "d2a292b7-dd85-416c-918b-562c575bc2b7"
      },
      "source": [
        "x_train[:1]"
      ],
      "execution_count": 49,
      "outputs": [
        {
          "output_type": "execute_result",
          "data": {
            "text/plain": [
              "array([[0.15550899, 0.16002875, 0.16546966, 0.1432353 , 0.13837263,\n",
              "        0.14619996, 0.1321915 , 0.12602681, 0.10489581, 0.11077074,\n",
              "        0.11908522, 0.10095558, 0.10928904, 0.10137187, 0.09043563,\n",
              "        0.07199725, 0.06057385, 0.08412669, 0.06603248, 0.07561229,\n",
              "        0.07552245, 0.08609681, 0.07317274, 0.0810899 , 0.09030909,\n",
              "        0.09667117, 0.12929896, 0.1255384 , 0.11252448, 0.12040496,\n",
              "        0.13868011, 0.14003654, 0.12380363, 0.11180072, 0.09748478,\n",
              "        0.07163663, 0.07845043, 0.08277153, 0.06603248, 0.06666515,\n",
              "        0.06939446, 0.07254007, 0.08269814, 0.08347632, 0.07055098,\n",
              "        0.06073581, 0.0583861 , 0.03076649, 0.        , 0.00844228]])"
            ]
          },
          "metadata": {
            "tags": []
          },
          "execution_count": 49
        }
      ]
    },
    {
      "cell_type": "code",
      "metadata": {
        "id": "SzfZPbG9FU7S",
        "colab_type": "code",
        "colab": {
          "base_uri": "https://localhost:8080/",
          "height": 51
        },
        "outputId": "bb20c3ea-5670-4f8f-ebef-8ce8170ea6fa"
      },
      "source": [
        "#reshaping for LSTM\n",
        "x_train=x_train.reshape(x_train.shape[0],x_train.shape[1],1)\n",
        "x_test=x_test.reshape(x_test.shape[0],x_test.shape[1],1)\n",
        "print(x_train.shape)\n",
        "print(x_test.shape)"
      ],
      "execution_count": 50,
      "outputs": [
        {
          "output_type": "stream",
          "text": [
            "(957, 50, 1)\n",
            "(202, 50, 1)\n"
          ],
          "name": "stdout"
        }
      ]
    },
    {
      "cell_type": "code",
      "metadata": {
        "id": "kL5P1_gAILgr",
        "colab_type": "code",
        "colab": {}
      },
      "source": [
        "model=Sequential()\n",
        "model.add(LSTM(units=96,return_sequences=True,input_shape=(x_train.shape[1],1)))\n",
        "model.add(Dropout(0.2))\n",
        "model.add(LSTM(units=96,return_sequences=True))\n",
        "model.add(Dropout(0.2))\n",
        "model.add(LSTM(units=96))\n",
        "model.add(Dropout(0.2))\n",
        "model.add(Dense(1))"
      ],
      "execution_count": 51,
      "outputs": []
    },
    {
      "cell_type": "code",
      "metadata": {
        "id": "caXTSBU0LZSq",
        "colab_type": "code",
        "colab": {
          "base_uri": "https://localhost:8080/",
          "height": 391
        },
        "outputId": "0276657f-7f35-4061-b5b7-8a7b8cab98ef"
      },
      "source": [
        "model.summary()"
      ],
      "execution_count": 52,
      "outputs": [
        {
          "output_type": "stream",
          "text": [
            "Model: \"sequential\"\n",
            "_________________________________________________________________\n",
            "Layer (type)                 Output Shape              Param #   \n",
            "=================================================================\n",
            "lstm (LSTM)                  (None, 50, 96)            37632     \n",
            "_________________________________________________________________\n",
            "dropout (Dropout)            (None, 50, 96)            0         \n",
            "_________________________________________________________________\n",
            "lstm_1 (LSTM)                (None, 50, 96)            74112     \n",
            "_________________________________________________________________\n",
            "dropout_1 (Dropout)          (None, 50, 96)            0         \n",
            "_________________________________________________________________\n",
            "lstm_2 (LSTM)                (None, 96)                74112     \n",
            "_________________________________________________________________\n",
            "dropout_2 (Dropout)          (None, 96)                0         \n",
            "_________________________________________________________________\n",
            "dense (Dense)                (None, 1)                 97        \n",
            "=================================================================\n",
            "Total params: 185,953\n",
            "Trainable params: 185,953\n",
            "Non-trainable params: 0\n",
            "_________________________________________________________________\n"
          ],
          "name": "stdout"
        }
      ]
    },
    {
      "cell_type": "code",
      "metadata": {
        "id": "4TboelPzLccI",
        "colab_type": "code",
        "colab": {
          "base_uri": "https://localhost:8080/",
          "height": 1000
        },
        "outputId": "465d1564-e5e3-46e4-dbb5-889ce6c1b232"
      },
      "source": [
        "model.compile(loss='mean_squared_error',optimizer='adam')\n",
        "model.fit(x_train,y_train,epochs=50,batch_size=32)\n"
      ],
      "execution_count": 53,
      "outputs": [
        {
          "output_type": "stream",
          "text": [
            "Epoch 1/50\n",
            "30/30 [==============================] - 4s 118ms/step - loss: 0.0395\n",
            "Epoch 2/50\n",
            "30/30 [==============================] - 4s 117ms/step - loss: 0.0058\n",
            "Epoch 3/50\n",
            "30/30 [==============================] - 3s 114ms/step - loss: 0.0047\n",
            "Epoch 4/50\n",
            "30/30 [==============================] - 3s 115ms/step - loss: 0.0046\n",
            "Epoch 5/50\n",
            "30/30 [==============================] - 3s 114ms/step - loss: 0.0038\n",
            "Epoch 6/50\n",
            "30/30 [==============================] - 4s 120ms/step - loss: 0.0043\n",
            "Epoch 7/50\n",
            "30/30 [==============================] - 4s 124ms/step - loss: 0.0042\n",
            "Epoch 8/50\n",
            "30/30 [==============================] - 4s 121ms/step - loss: 0.0046\n",
            "Epoch 9/50\n",
            "30/30 [==============================] - 4s 121ms/step - loss: 0.0038\n",
            "Epoch 10/50\n",
            "30/30 [==============================] - 4s 117ms/step - loss: 0.0037\n",
            "Epoch 11/50\n",
            "30/30 [==============================] - 3s 114ms/step - loss: 0.0039\n",
            "Epoch 12/50\n",
            "30/30 [==============================] - 3s 114ms/step - loss: 0.0035\n",
            "Epoch 13/50\n",
            "30/30 [==============================] - 3s 113ms/step - loss: 0.0034\n",
            "Epoch 14/50\n",
            "30/30 [==============================] - 3s 114ms/step - loss: 0.0032\n",
            "Epoch 15/50\n",
            "30/30 [==============================] - 3s 114ms/step - loss: 0.0034\n",
            "Epoch 16/50\n",
            "30/30 [==============================] - 3s 113ms/step - loss: 0.0034\n",
            "Epoch 17/50\n",
            "30/30 [==============================] - 3s 112ms/step - loss: 0.0034\n",
            "Epoch 18/50\n",
            "30/30 [==============================] - 3s 112ms/step - loss: 0.0029\n",
            "Epoch 19/50\n",
            "30/30 [==============================] - 3s 112ms/step - loss: 0.0038\n",
            "Epoch 20/50\n",
            "30/30 [==============================] - 3s 113ms/step - loss: 0.0032\n",
            "Epoch 21/50\n",
            "30/30 [==============================] - 3s 113ms/step - loss: 0.0028\n",
            "Epoch 22/50\n",
            "30/30 [==============================] - 3s 112ms/step - loss: 0.0032\n",
            "Epoch 23/50\n",
            "30/30 [==============================] - 3s 114ms/step - loss: 0.0031\n",
            "Epoch 24/50\n",
            "30/30 [==============================] - 3s 114ms/step - loss: 0.0031\n",
            "Epoch 25/50\n",
            "30/30 [==============================] - 3s 115ms/step - loss: 0.0027\n",
            "Epoch 26/50\n",
            "30/30 [==============================] - 3s 114ms/step - loss: 0.0032\n",
            "Epoch 27/50\n",
            "30/30 [==============================] - 3s 114ms/step - loss: 0.0029\n",
            "Epoch 28/50\n",
            "30/30 [==============================] - 3s 112ms/step - loss: 0.0038\n",
            "Epoch 29/50\n",
            "30/30 [==============================] - 3s 114ms/step - loss: 0.0027\n",
            "Epoch 30/50\n",
            "30/30 [==============================] - 3s 114ms/step - loss: 0.0027\n",
            "Epoch 31/50\n",
            "30/30 [==============================] - 3s 116ms/step - loss: 0.0026\n",
            "Epoch 32/50\n",
            "30/30 [==============================] - 3s 114ms/step - loss: 0.0025\n",
            "Epoch 33/50\n",
            "30/30 [==============================] - 3s 112ms/step - loss: 0.0025\n",
            "Epoch 34/50\n",
            "30/30 [==============================] - 3s 112ms/step - loss: 0.0025\n",
            "Epoch 35/50\n",
            "30/30 [==============================] - 3s 113ms/step - loss: 0.0023\n",
            "Epoch 36/50\n",
            "30/30 [==============================] - 3s 111ms/step - loss: 0.0023\n",
            "Epoch 37/50\n",
            "30/30 [==============================] - 3s 114ms/step - loss: 0.0025\n",
            "Epoch 38/50\n",
            "30/30 [==============================] - 3s 114ms/step - loss: 0.0028\n",
            "Epoch 39/50\n",
            "30/30 [==============================] - 4s 129ms/step - loss: 0.0025\n",
            "Epoch 40/50\n",
            "30/30 [==============================] - 4s 117ms/step - loss: 0.0024\n",
            "Epoch 41/50\n",
            "30/30 [==============================] - 3s 116ms/step - loss: 0.0028\n",
            "Epoch 42/50\n",
            "30/30 [==============================] - 3s 116ms/step - loss: 0.0026\n",
            "Epoch 43/50\n",
            "30/30 [==============================] - 4s 118ms/step - loss: 0.0022\n",
            "Epoch 44/50\n",
            "30/30 [==============================] - 4s 117ms/step - loss: 0.0026\n",
            "Epoch 45/50\n",
            "30/30 [==============================] - 3s 116ms/step - loss: 0.0022\n",
            "Epoch 46/50\n",
            "30/30 [==============================] - 3s 117ms/step - loss: 0.0021\n",
            "Epoch 47/50\n",
            "30/30 [==============================] - 3s 115ms/step - loss: 0.0020\n",
            "Epoch 48/50\n",
            "30/30 [==============================] - 4s 117ms/step - loss: 0.0019\n",
            "Epoch 49/50\n",
            "30/30 [==============================] - 3s 116ms/step - loss: 0.0023\n",
            "Epoch 50/50\n",
            "30/30 [==============================] - 4s 117ms/step - loss: 0.0022\n"
          ],
          "name": "stdout"
        },
        {
          "output_type": "error",
          "ename": "NameError",
          "evalue": "ignored",
          "traceback": [
            "\u001b[0;31m---------------------------------------------------------------------------\u001b[0m",
            "\u001b[0;31mNameError\u001b[0m                                 Traceback (most recent call last)",
            "\u001b[0;32m<ipython-input-53-0176aedd2d3a>\u001b[0m in \u001b[0;36m<module>\u001b[0;34m()\u001b[0m\n\u001b[1;32m      1\u001b[0m \u001b[0mmodel\u001b[0m\u001b[0;34m.\u001b[0m\u001b[0mcompile\u001b[0m\u001b[0;34m(\u001b[0m\u001b[0mloss\u001b[0m\u001b[0;34m=\u001b[0m\u001b[0;34m'mean_squared_error'\u001b[0m\u001b[0;34m,\u001b[0m\u001b[0moptimizer\u001b[0m\u001b[0;34m=\u001b[0m\u001b[0;34m'adam'\u001b[0m\u001b[0;34m)\u001b[0m\u001b[0;34m\u001b[0m\u001b[0;34m\u001b[0m\u001b[0m\n\u001b[1;32m      2\u001b[0m \u001b[0mmodel\u001b[0m\u001b[0;34m.\u001b[0m\u001b[0mfit\u001b[0m\u001b[0;34m(\u001b[0m\u001b[0mx_train\u001b[0m\u001b[0;34m,\u001b[0m\u001b[0my_train\u001b[0m\u001b[0;34m,\u001b[0m\u001b[0mepochs\u001b[0m\u001b[0;34m=\u001b[0m\u001b[0;36m50\u001b[0m\u001b[0;34m,\u001b[0m\u001b[0mbatch_size\u001b[0m\u001b[0;34m=\u001b[0m\u001b[0;36m32\u001b[0m\u001b[0;34m)\u001b[0m\u001b[0;34m\u001b[0m\u001b[0;34m\u001b[0m\u001b[0m\n\u001b[0;32m----> 3\u001b[0;31m \u001b[0mmodel\u001b[0m\u001b[0;34m.\u001b[0m\u001b[0msave\u001b[0m\u001b[0;34m(\u001b[0m\u001b[0mstock_pred_aapl\u001b[0m\u001b[0;34m.\u001b[0m\u001b[0mh5\u001b[0m\u001b[0;34m)\u001b[0m\u001b[0;34m\u001b[0m\u001b[0;34m\u001b[0m\u001b[0m\n\u001b[0m",
            "\u001b[0;31mNameError\u001b[0m: name 'stock_pred_aapl' is not defined"
          ]
        }
      ]
    },
    {
      "cell_type": "code",
      "metadata": {
        "id": "tAZBS10mMmBQ",
        "colab_type": "code",
        "colab": {}
      },
      "source": [
        "model.save('stock_pred_aapl.h5')"
      ],
      "execution_count": 54,
      "outputs": []
    },
    {
      "cell_type": "code",
      "metadata": {
        "id": "JSkYK8YuNaXm",
        "colab_type": "code",
        "colab": {
          "base_uri": "https://localhost:8080/",
          "height": 34
        },
        "outputId": "867e8a47-2bc0-4116-9258-db104fe8f28e"
      },
      "source": [
        "ls"
      ],
      "execution_count": 55,
      "outputs": [
        {
          "output_type": "stream",
          "text": [
            "\u001b[0m\u001b[01;34msample_data\u001b[0m/  stock_pred_aapl.h5\n"
          ],
          "name": "stdout"
        }
      ]
    },
    {
      "cell_type": "code",
      "metadata": {
        "id": "tnffZmhYNr_l",
        "colab_type": "code",
        "colab": {}
      },
      "source": [
        "model1=load_model('stock_pred_aapl.h5')"
      ],
      "execution_count": 56,
      "outputs": []
    },
    {
      "cell_type": "code",
      "metadata": {
        "id": "BDLv8KD1N6g7",
        "colab_type": "code",
        "colab": {}
      },
      "source": [
        "predictions=model1.predict(x_test)\n",
        "predictions=scaler.inverse_transform(predictions)"
      ],
      "execution_count": 59,
      "outputs": []
    },
    {
      "cell_type": "code",
      "metadata": {
        "id": "ggYzxd8vPe5Y",
        "colab_type": "code",
        "colab": {
          "base_uri": "https://localhost:8080/",
          "height": 282
        },
        "outputId": "c3427073-baf3-437d-e174-ba8053411d43"
      },
      "source": [
        "fig,ax=plt.subplots(figsize=(8,4))\n",
        "plt.plot(df,color='red',label='original_stock_price')\n",
        "#plt.plot(range(50,len(y_train)+50))\n",
        "plt.plot(range(train_idx+50,train_idx+len(test_data)),predictions,color='blue',label='predicted_stock_prices')\n",
        "plt.legend()"
      ],
      "execution_count": 68,
      "outputs": [
        {
          "output_type": "execute_result",
          "data": {
            "text/plain": [
              "<matplotlib.legend.Legend at 0x7f12719750b8>"
            ]
          },
          "metadata": {
            "tags": []
          },
          "execution_count": 68
        },
        {
          "output_type": "display_data",
          "data": {
            "image/png": "[encoded data removed]",
            "text/plain": [
              "<Figure size 576x288 with 1 Axes>"
            ]
          },
          "metadata": {
            "tags": [],
            "needs_background": "dark"
          }
        }
      ]
    },
    {
      "cell_type": "code",
      "metadata": {
        "id": "ahcL1TaWQpQG",
        "colab_type": "code",
        "colab": {
          "base_uri": "https://localhost:8080/",
          "height": 34
        },
        "outputId": "84c8cc82-776a-4188-b127-7f9a63d5056a"
      },
      "source": [
        "predictions.shape"
      ],
      "execution_count": 63,
      "outputs": [
        {
          "output_type": "execute_result",
          "data": {
            "text/plain": [
              "(202, 1)"
            ]
          },
          "metadata": {
            "tags": []
          },
          "execution_count": 63
        }
      ]
    },
    {
      "cell_type": "code",
      "metadata": {
        "id": "mDxM92emR6Wj",
        "colab_type": "code",
        "colab": {
          "base_uri": "https://localhost:8080/",
          "height": 34
        },
        "outputId": "00464c58-0c9a-4e7c-d07e-f5ba13a4feb1"
      },
      "source": [
        "len(range(train_idx+50,train_idx+len(test_data)))"
      ],
      "execution_count": 66,
      "outputs": [
        {
          "output_type": "execute_result",
          "data": {
            "text/plain": [
              "202"
            ]
          },
          "metadata": {
            "tags": []
          },
          "execution_count": 66
        }
      ]
    },
    {
      "cell_type": "code",
      "metadata": {
        "id": "KB-Dx42ASAn6",
        "colab_type": "code",
        "colab": {
          "base_uri": "https://localhost:8080/",
          "height": 34
        },
        "outputId": "788d83a7-c0a3-408b-b5fb-d3322d86fad4"
      },
      "source": [
        "range(train_idx+50,train_idx+len(test_data))"
      ],
      "execution_count": 67,
      "outputs": [
        {
          "output_type": "execute_result",
          "data": {
            "text/plain": [
              "range(1057, 1259)"
            ]
          },
          "metadata": {
            "tags": []
          },
          "execution_count": 67
        }
      ]
    },
    {
      "cell_type": "code",
      "metadata": {
        "id": "WWo8r2qwUUR7",
        "colab_type": "code",
        "colab": {
          "base_uri": "https://localhost:8080/",
          "height": 34
        },
        "outputId": "aa0a1c1b-e5e3-4001-c494-c2e937aafef5"
      },
      "source": [
        "y_test.shape"
      ],
      "execution_count": 74,
      "outputs": [
        {
          "output_type": "execute_result",
          "data": {
            "text/plain": [
              "(202,)"
            ]
          },
          "metadata": {
            "tags": []
          },
          "execution_count": 74
        }
      ]
    },
    {
      "cell_type": "code",
      "metadata": {
        "id": "REFimviqSTwp",
        "colab_type": "code",
        "colab": {
          "base_uri": "https://localhost:8080/",
          "height": 282
        },
        "outputId": "7b5ec3f9-41cf-48f7-d689-24da181efd80"
      },
      "source": [
        "y_true=scaler.inverse_transform(y_test.reshape(-1, 1))\n",
        "fig,ax=plt.subplots(figsize=(8,4))\n",
        "plt.plot(y_true,color='red',label='original_stock_price')\n",
        "#plt.plot(range(50,len(y_train)+50))\n",
        "plt.plot(predictions,color='blue',label='predicted_stock_prices')\n",
        "plt.legend()"
      ],
      "execution_count": 78,
      "outputs": [
        {
          "output_type": "execute_result",
          "data": {
            "text/plain": [
              "<matplotlib.legend.Legend at 0x7f1271701470>"
            ]
          },
          "metadata": {
            "tags": []
          },
          "execution_count": 78
        },
        {
          "output_type": "display_data",
          "data": {
            "image/png": "[encoded data removed]",
            "text/plain": [
              "<Figure size 576x288 with 1 Axes>"
            ]
          },
          "metadata": {
            "tags": [],
            "needs_background": "dark"
          }
        }
      ]
    },
    {
      "cell_type": "code",
      "metadata": {
        "id": "lDzBREy7UhGg",
        "colab_type": "code",
        "colab": {}
      },
      "source": [
        ""
      ],
      "execution_count": null,
      "outputs": []
    }
  ]
}